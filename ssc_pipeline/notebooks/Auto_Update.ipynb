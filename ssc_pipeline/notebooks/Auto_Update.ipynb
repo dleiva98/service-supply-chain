{
 "cells": [
  {
   "cell_type": "code",
   "execution_count": null,
   "id": "393a1fad",
   "metadata": {},
   "outputs": [],
   "source": [
    "# === SSC bootstrap cell (no borrar) ===\n",
    "import os, sys, pathlib\n",
    "BASE = \"/content/drive/MyDrive/SSC\"\n",
    "os.environ[\"SSC_ROOT\"] = BASE\n",
    "os.environ[\"SSC_CACHE_DIR\"] = f\"{BASE}/.ssc_cache\"\n",
    "pathlib.Path(os.environ[\"SSC_CACHE_DIR\"]).mkdir(parents=True, exist_ok=True)\n",
    "sys.path.insert(0, BASE)\n",
    "\n",
    "from ssc_pipeline.ssc_pipeline import run as ssc_update\n",
    "ssc_update()  # refresca /content/drive/MyDrive/SSC/main.csv\n",
    "\n",
    "import pandas as pd\n",
    "df = pd.read_csv(f\"{BASE}/main.csv\")\n",
    "print(\"main.csv cargado desde:\", f\"{BASE}/main.csv\", \"| Filas:\", len(df))\n",
    "df.head(3)\n"
   ]
  },
  {
   "cell_type": "markdown",
   "id": "623cf164",
   "metadata": {},
   "source": [
    "# Auto Update"
   ]
  },
  {
   "cell_type": "code",
   "execution_count": null,
   "id": "f1156c4b",
   "metadata": {},
   "outputs": [],
   "source": [
    "import sys\n",
    "sys.path.insert(0, r'/content/drive/MyDrive/SSC')\n",
    "from ssc_pipeline.ssc_pipeline import run as ssc_update\n",
    "ssc_update()\n",
    "import pandas as pd\n",
    "df = pd.read_csv(r'/content/drive/MyDrive/SSC/main.csv')\n",
    "df.head()"
   ]
  }
 ],
 "metadata": {},
 "nbformat": 4,
 "nbformat_minor": 5
}
