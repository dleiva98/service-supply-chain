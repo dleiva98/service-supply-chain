{
 "cells": [
  {
   "cell_type": "code",
   "execution_count": null,
   "id": "e31f69cc",
   "metadata": {},
   "outputs": [],
   "source": [
    "# === SSC bootstrap cell (no borrar) ===\n",
    "import os, sys, pathlib\n",
    "BASE = \"/content/drive/MyDrive/SSC\"\n",
    "os.environ[\"SSC_ROOT\"] = BASE\n",
    "os.environ[\"SSC_CACHE_DIR\"] = f\"{BASE}/.ssc_cache\"\n",
    "pathlib.Path(os.environ[\"SSC_CACHE_DIR\"]).mkdir(parents=True, exist_ok=True)\n",
    "sys.path.insert(0, BASE)\n",
    "\n",
    "from ssc_pipeline.ssc_pipeline import run as ssc_update\n",
    "ssc_update()  # refresca /content/drive/MyDrive/SSC/main.csv\n",
    "\n",
    "import pandas as pd\n",
    "df = pd.read_csv(f\"{BASE}/main.csv\")\n",
    "print(\"main.csv cargado desde:\", f\"{BASE}/main.csv\", \"| Filas:\", len(df))\n",
    "df.head(3)\n"
   ]
  },
  {
   "cell_type": "markdown",
   "id": "97f9e975",
   "metadata": {},
   "source": [
    "# Service Supply Chain — Auto Report"
   ]
  },
  {
   "cell_type": "code",
   "execution_count": null,
   "id": "780e39ba",
   "metadata": {},
   "outputs": [],
   "source": [
    "import pandas as pd, numpy as np, matplotlib.pyplot as plt, os\n",
    "csv_path = r'/content/drive/MyDrive/SSC/main.csv'\n",
    "assert os.path.exists(csv_path), 'main.csv no encontrado; corre el updater primero.'\n",
    "df = pd.read_csv(csv_path)\n",
    "print('Filas:', len(df))\n",
    "if 'pulled_at_utc' in df.columns:\n",
    "    df['pulled_at_utc'] = pd.to_datetime(df['pulled_at_utc'], errors='coerce')\n",
    "    print('Freshness UTC:', df['pulled_at_utc'].max())\n",
    "display(df.head(3))"
   ]
  }
 ],
 "metadata": {},
 "nbformat": 4,
 "nbformat_minor": 5
}
