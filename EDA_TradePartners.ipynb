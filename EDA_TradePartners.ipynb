{
 "cells": [
  {
   "cell_type": "markdown",
   "id": "75d62fd0",
   "metadata": {},
   "source": [
    "# EDA Trade Partners"
   ]
  },
  {
   "cell_type": "code",
   "execution_count": null,
   "id": "25c4e031",
   "metadata": {},
   "outputs": [],
   "source": [
    "# === SSC bootstrap cell (no borrar) ===\n",
    "import os, sys, pathlib\n",
    "BASE = \"/content/drive/MyDrive/SSC\"\n",
    "os.environ[\"SSC_ROOT\"] = BASE\n",
    "os.environ[\"SSC_CACHE_DIR\"] = f\"{BASE}/.ssc_cache\"\n",
    "pathlib.Path(os.environ[\"SSC_CACHE_DIR\"]).mkdir(parents=True, exist_ok=True)\n",
    "sys.path.insert(0, BASE)\n",
    "\n",
    "from ssc_pipeline.ssc_pipeline import run as ssc_update\n",
    "ssc_update()  # refresca /content/drive/MyDrive/SSC/main.csv\n",
    "\n",
    "import pandas as pd\n",
    "df = pd.read_csv(f\"{BASE}/main.csv\")\n",
    "print(\"main.csv cargado desde:\", f\"{BASE}/main.csv\", \"| Filas:\", len(df))\n",
    "df.head(3)\n"
   ]
  },
  {
   "cell_type": "markdown",
   "id": "d79fc8bf",
   "metadata": {},
   "source": [
    "## TODO: agrega aquí tus gráficos/tablas de EDA de socios comerciales."
   ]
  }
 ],
 "metadata": {},
 "nbformat": 4,
 "nbformat_minor": 5
}
